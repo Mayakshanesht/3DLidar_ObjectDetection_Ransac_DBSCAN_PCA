{
 "cells": [
  {
   "cell_type": "code",
   "execution_count": 12,
   "metadata": {},
   "outputs": [
    {
     "name": "stdout",
     "output_type": "stream",
     "text": [
      "Requirement already satisfied: open3d==0.10.0 in c:\\users\\lenovo\\anaconda3\\lib\\site-packages (0.10.0.0)Note: you may need to restart the kernel to use updated packages.\n",
      "Requirement already satisfied: notebook in c:\\users\\lenovo\\anaconda3\\lib\\site-packages (from open3d==0.10.0) (6.1.4)\n",
      "Requirement already satisfied: widgetsnbextension in c:\\users\\lenovo\\anaconda3\\lib\\site-packages (from open3d==0.10.0) (3.5.1)\n",
      "Requirement already satisfied: ipywidgets in c:\\users\\lenovo\\anaconda3\\lib\\site-packages (from open3d==0.10.0) (7.5.1)\n",
      "Requirement already satisfied: matplotlib in c:\\users\\lenovo\\anaconda3\\lib\\site-packages (from open3d==0.10.0) (3.3.2)\n",
      "Requirement already satisfied: numpy in c:\\users\\lenovo\\anaconda3\\lib\\site-packages (from open3d==0.10.0) (1.19.2)\n",
      "Requirement already satisfied: ipython-genutils in c:\\users\\lenovo\\anaconda3\\lib\\site-packages (from notebook->open3d==0.10.0) (0.2.0)\n",
      "Requirement already satisfied: tornado>=5.0 in c:\\users\\lenovo\\anaconda3\\lib\\site-packages (from notebook->open3d==0.10.0) (6.0.4)\n",
      "Requirement already satisfied: jupyter-client>=5.3.4 in c:\\users\\lenovo\\anaconda3\\lib\\site-packages (from notebook->open3d==0.10.0) (6.1.7)\n",
      "Requirement already satisfied: jinja2 in c:\\users\\lenovo\\anaconda3\\lib\\site-packages (from notebook->open3d==0.10.0) (2.11.2)\n",
      "Requirement already satisfied: ipykernel in c:\\users\\lenovo\\anaconda3\\lib\\site-packages (from notebook->open3d==0.10.0) (5.3.4)\n",
      "Requirement already satisfied: pyzmq>=17 in c:\\users\\lenovo\\anaconda3\\lib\\site-packages (from notebook->open3d==0.10.0) (19.0.2)\n",
      "Requirement already satisfied: jupyter-core>=4.6.1 in c:\\users\\lenovo\\anaconda3\\lib\\site-packages (from notebook->open3d==0.10.0) (4.6.3)\n",
      "Requirement already satisfied: Send2Trash in c:\\users\\lenovo\\anaconda3\\lib\\site-packages (from notebook->open3d==0.10.0) (1.5.0)\n",
      "Requirement already satisfied: argon2-cffi in c:\\users\\lenovo\\anaconda3\\lib\\site-packages (from notebook->open3d==0.10.0) (20.1.0)\n",
      "Requirement already satisfied: prometheus-client in c:\\users\\lenovo\\anaconda3\\lib\\site-packages (from notebook->open3d==0.10.0) (0.8.0)\n",
      "Requirement already satisfied: nbconvert in c:\\users\\lenovo\\anaconda3\\lib\\site-packages (from notebook->open3d==0.10.0) (6.0.7)\n",
      "Requirement already satisfied: nbformat in c:\\users\\lenovo\\anaconda3\\lib\\site-packages (from notebook->open3d==0.10.0) (5.0.8)\n",
      "Requirement already satisfied: terminado>=0.8.3 in c:\\users\\lenovo\\anaconda3\\lib\\site-packages (from notebook->open3d==0.10.0) (0.9.1)\n",
      "Requirement already satisfied: traitlets>=4.2.1 in c:\\users\\lenovo\\anaconda3\\lib\\site-packages (from notebook->open3d==0.10.0) (5.0.5)\n",
      "Requirement already satisfied: ipython>=4.0.0; python_version >= \"3.3\" in c:\\users\\lenovo\\anaconda3\\lib\\site-packages (from ipywidgets->open3d==0.10.0) (7.19.0)\n",
      "Requirement already satisfied: pillow>=6.2.0 in c:\\users\\lenovo\\anaconda3\\lib\\site-packages (from matplotlib->open3d==0.10.0) (8.0.1)\n",
      "Requirement already satisfied: kiwisolver>=1.0.1 in c:\\users\\lenovo\\anaconda3\\lib\\site-packages (from matplotlib->open3d==0.10.0) (1.3.0)\n",
      "Requirement already satisfied: python-dateutil>=2.1 in c:\\users\\lenovo\\anaconda3\\lib\\site-packages (from matplotlib->open3d==0.10.0) (2.8.1)\n",
      "Requirement already satisfied: cycler>=0.10 in c:\\users\\lenovo\\anaconda3\\lib\\site-packages (from matplotlib->open3d==0.10.0) (0.10.0)\n",
      "Requirement already satisfied: certifi>=2020.06.20 in c:\\users\\lenovo\\anaconda3\\lib\\site-packages (from matplotlib->open3d==0.10.0) (2020.6.20)\n",
      "Requirement already satisfied: pyparsing!=2.0.4,!=2.1.2,!=2.1.6,>=2.0.3 in c:\\users\\lenovo\\anaconda3\\lib\\site-packages (from matplotlib->open3d==0.10.0) (2.4.7)\n",
      "Requirement already satisfied: MarkupSafe>=0.23 in c:\\users\\lenovo\\anaconda3\\lib\\site-packages (from jinja2->notebook->open3d==0.10.0) (1.1.1)\n",
      "Requirement already satisfied: pywin32>=1.0; sys_platform == \"win32\" in c:\\users\\lenovo\\anaconda3\\lib\\site-packages (from jupyter-core>=4.6.1->notebook->open3d==0.10.0) (227)\n",
      "Requirement already satisfied: six in c:\\users\\lenovo\\anaconda3\\lib\\site-packages (from argon2-cffi->notebook->open3d==0.10.0) (1.15.0)\n",
      "Requirement already satisfied: cffi>=1.0.0 in c:\\users\\lenovo\\anaconda3\\lib\\site-packages (from argon2-cffi->notebook->open3d==0.10.0) (1.14.3)\n",
      "Requirement already satisfied: defusedxml in c:\\users\\lenovo\\anaconda3\\lib\\site-packages (from nbconvert->notebook->open3d==0.10.0) (0.6.0)\n",
      "Requirement already satisfied: testpath in c:\\users\\lenovo\\anaconda3\\lib\\site-packages (from nbconvert->notebook->open3d==0.10.0) (0.4.4)\n",
      "Requirement already satisfied: nbclient<0.6.0,>=0.5.0 in c:\\users\\lenovo\\anaconda3\\lib\\site-packages (from nbconvert->notebook->open3d==0.10.0) (0.5.1)\n",
      "Requirement already satisfied: bleach in c:\\users\\lenovo\\anaconda3\\lib\\site-packages (from nbconvert->notebook->open3d==0.10.0) (3.2.1)\n",
      "Requirement already satisfied: jupyterlab-pygments in c:\\users\\lenovo\\anaconda3\\lib\\site-packages (from nbconvert->notebook->open3d==0.10.0) (0.1.2)\n",
      "Requirement already satisfied: pygments>=2.4.1 in c:\\users\\lenovo\\anaconda3\\lib\\site-packages (from nbconvert->notebook->open3d==0.10.0) (2.7.2)\n",
      "Requirement already satisfied: pandocfilters>=1.4.1 in c:\\users\\lenovo\\anaconda3\\lib\\site-packages (from nbconvert->notebook->open3d==0.10.0) (1.4.3)\n",
      "Requirement already satisfied: entrypoints>=0.2.2 in c:\\users\\lenovo\\anaconda3\\lib\\site-packages (from nbconvert->notebook->open3d==0.10.0) (0.3)\n",
      "Requirement already satisfied: mistune<2,>=0.8.1 in c:\\users\\lenovo\\anaconda3\\lib\\site-packages (from nbconvert->notebook->open3d==0.10.0) (0.8.4)\n",
      "Requirement already satisfied: jsonschema!=2.5.0,>=2.4 in c:\\users\\lenovo\\anaconda3\\lib\\site-packages (from nbformat->notebook->open3d==0.10.0) (3.2.0)\n",
      "Requirement already satisfied: pywinpty>=0.5 in c:\\users\\lenovo\\anaconda3\\lib\\site-packages (from terminado>=0.8.3->notebook->open3d==0.10.0) (0.5.7)\n",
      "Requirement already satisfied: prompt-toolkit!=3.0.0,!=3.0.1,<3.1.0,>=2.0.0 in c:\\users\\lenovo\\anaconda3\\lib\\site-packages (from ipython>=4.0.0; python_version >= \"3.3\"->ipywidgets->open3d==0.10.0) (3.0.8)\n",
      "Requirement already satisfied: jedi>=0.10 in c:\\users\\lenovo\\anaconda3\\lib\\site-packages (from ipython>=4.0.0; python_version >= \"3.3\"->ipywidgets->open3d==0.10.0) (0.17.1)\n",
      "Requirement already satisfied: pickleshare in c:\\users\\lenovo\\anaconda3\\lib\\site-packages (from ipython>=4.0.0; python_version >= \"3.3\"->ipywidgets->open3d==0.10.0) (0.7.5)\n",
      "Requirement already satisfied: setuptools>=18.5 in c:\\users\\lenovo\\anaconda3\\lib\\site-packages (from ipython>=4.0.0; python_version >= \"3.3\"->ipywidgets->open3d==0.10.0) (50.3.1.post20201107)\n",
      "\n",
      "Requirement already satisfied: colorama; sys_platform == \"win32\" in c:\\users\\lenovo\\anaconda3\\lib\\site-packages (from ipython>=4.0.0; python_version >= \"3.3\"->ipywidgets->open3d==0.10.0) (0.4.4)\n",
      "Requirement already satisfied: decorator in c:\\users\\lenovo\\anaconda3\\lib\\site-packages (from ipython>=4.0.0; python_version >= \"3.3\"->ipywidgets->open3d==0.10.0) (4.4.2)\n",
      "Requirement already satisfied: backcall in c:\\users\\lenovo\\anaconda3\\lib\\site-packages (from ipython>=4.0.0; python_version >= \"3.3\"->ipywidgets->open3d==0.10.0) (0.2.0)\n",
      "Requirement already satisfied: pycparser in c:\\users\\lenovo\\anaconda3\\lib\\site-packages (from cffi>=1.0.0->argon2-cffi->notebook->open3d==0.10.0) (2.20)\n",
      "Requirement already satisfied: async-generator in c:\\users\\lenovo\\anaconda3\\lib\\site-packages (from nbclient<0.6.0,>=0.5.0->nbconvert->notebook->open3d==0.10.0) (1.10)\n",
      "Requirement already satisfied: nest-asyncio in c:\\users\\lenovo\\anaconda3\\lib\\site-packages (from nbclient<0.6.0,>=0.5.0->nbconvert->notebook->open3d==0.10.0) (1.4.2)\n",
      "Requirement already satisfied: packaging in c:\\users\\lenovo\\anaconda3\\lib\\site-packages (from bleach->nbconvert->notebook->open3d==0.10.0) (20.4)\n",
      "Requirement already satisfied: webencodings in c:\\users\\lenovo\\anaconda3\\lib\\site-packages (from bleach->nbconvert->notebook->open3d==0.10.0) (0.5.1)\n",
      "Requirement already satisfied: attrs>=17.4.0 in c:\\users\\lenovo\\anaconda3\\lib\\site-packages (from jsonschema!=2.5.0,>=2.4->nbformat->notebook->open3d==0.10.0) (20.3.0)\n",
      "Requirement already satisfied: pyrsistent>=0.14.0 in c:\\users\\lenovo\\anaconda3\\lib\\site-packages (from jsonschema!=2.5.0,>=2.4->nbformat->notebook->open3d==0.10.0) (0.17.3)\n",
      "Requirement already satisfied: wcwidth in c:\\users\\lenovo\\anaconda3\\lib\\site-packages (from prompt-toolkit!=3.0.0,!=3.0.1,<3.1.0,>=2.0.0->ipython>=4.0.0; python_version >= \"3.3\"->ipywidgets->open3d==0.10.0) (0.2.5)\n",
      "Requirement already satisfied: parso<0.8.0,>=0.7.0 in c:\\users\\lenovo\\anaconda3\\lib\\site-packages (from jedi>=0.10->ipython>=4.0.0; python_version >= \"3.3\"->ipywidgets->open3d==0.10.0) (0.7.0)\n"
     ]
    }
   ],
   "source": [
    "pip install open3d==0.10.0"
   ]
  },
  {
   "cell_type": "code",
   "execution_count": null,
   "metadata": {},
   "outputs": [],
   "source": []
  },
  {
   "cell_type": "code",
   "execution_count": 13,
   "metadata": {},
   "outputs": [],
   "source": [
    "## IMPORT LIBRARIES\n",
    "import numpy as np\n",
    "import time\n",
    "import open3d\n",
    "import pandas as pd\n",
    "import matplotlib.pyplot as plt\n",
    "\n",
    "## USE http://www.open3d.org/docs/release/tutorial/Basic/\n",
    "\n",
    "## CHALLENGE 1 - OPEN A FILE OF YOUR CHOICE AND VISUALIZE THE POINT CLOUD\n",
    "# The supported extension names are: pcd, ply, xyz, xyzrgb, xyzn, pts.\n",
    "pcd = open3d.io.read_point_cloud(\"/Users/LENOVO/Downloads/point_cloud_course-master/point_cloud_course-master/test_files/KITTI/000003.pcd\")\n",
    "#print(np.asarray([pcd.points]))\n",
    "open3d.visualization.draw_geometries([pcd])"
   ]
  },
  {
   "cell_type": "code",
   "execution_count": null,
   "metadata": {},
   "outputs": [],
   "source": []
  },
  {
   "cell_type": "code",
   "execution_count": 14,
   "metadata": {},
   "outputs": [
    {
     "name": "stdout",
     "output_type": "stream",
     "text": [
      "[[[47.18700027  8.56000042  1.83099997]\n",
      "  [46.62900162  8.53499985  1.81200004]\n",
      "  [46.06299973  8.57999992  1.79400003]\n",
      "  ...\n",
      "  [ 3.76900005 -1.426      -1.76300001]\n",
      "  [ 3.79500008 -1.42200005 -1.77400005]\n",
      "  [ 3.80299997 -1.41199994 -1.77499998]]]\n"
     ]
    }
   ],
   "source": [
    "print(np.asarray([pcd.points]))"
   ]
  },
  {
   "cell_type": "code",
   "execution_count": 15,
   "metadata": {},
   "outputs": [
    {
     "name": "stdout",
     "output_type": "stream",
     "text": [
      "Points before downsampling: 121795 \n",
      "Points after downsampling: 23839\n"
     ]
    }
   ],
   "source": [
    "## CHALLENGE 2 - VOXEL GRID DOWNSAMPLING\n",
    "print(f\"Points before downsampling: {len(pcd.points)} \")\n",
    "downpcd=pcd.voxel_down_sample(voxel_size=0.2)\n",
    "\n",
    "print(f\"Points after downsampling: {len(downpcd.points)}\")# DOWNSAMPLING\n",
    "open3d.visualization.draw_geometries([downpcd])"
   ]
  },
  {
   "cell_type": "code",
   "execution_count": 16,
   "metadata": {},
   "outputs": [
    {
     "name": "stdout",
     "output_type": "stream",
     "text": [
      "time_taken: 12.172147035598755\n"
     ]
    }
   ],
   "source": [
    "## CHALLENGE 3 - SEGMENTATION\n",
    "t1=time.time()\n",
    "_, inliers = downpcd.segment_plane(distance_threshold=0.3,ransac_n=3,num_iterations=250)\n",
    "inlier_cloud=downpcd.select_by_index(inliers)\n",
    "outlier_cloud=downpcd.select_by_index(inliers,invert=True)\n",
    "inlier_cloud.paint_uniform_color([1,0,0])\n",
    "outlier_cloud.paint_uniform_color([0,0,1])\n",
    "open3d.visualization.draw_geometries([inlier_cloud,outlier_cloud])\n",
    "t2=time.time()\n",
    "print(f\"time_taken: {t2-t1}\")"
   ]
  },
  {
   "cell_type": "code",
   "execution_count": 17,
   "metadata": {},
   "outputs": [
    {
     "name": "stdout",
     "output_type": "stream",
     "text": [
      "[Open3D DEBUG] Precompute Neighbours\n",
      "[Open3D DEBUG] Done Precompute Neighbours\n",
      "[Open3D DEBUG] Compute Clusters\n",
      "[Open3D DEBUG] Done Compute Clusters: 71\n",
      "point cloud has 71 clusters\n"
     ]
    }
   ],
   "source": [
    "## CHALLENGE 4 - CLUSTERING USING DBSCAN\n",
    "with open3d.utility.VerbosityContextManager(open3d.utility.VerbosityLevel.Debug) as cm:\n",
    "    labels = np.array(outlier_cloud.cluster_dbscan(eps=0.5, min_points=5, print_progress=True))\n",
    "\n",
    "max_label = labels.max()\n",
    "print(f\"point cloud has {max_label + 1} clusters\")\n",
    "colors = plt.get_cmap(\"tab20\")(labels / (max_label if max_label > 0 else 1))\n",
    "colors[labels < 0] = 0\n",
    "outlier_cloud.colors = open3d.utility.Vector3dVector(colors[:, :3])\n",
    "open3d.visualization.draw_geometries([outlier_cloud])"
   ]
  },
  {
   "cell_type": "code",
   "execution_count": 21,
   "metadata": {},
   "outputs": [
    {
     "name": "stdout",
     "output_type": "stream",
     "text": [
      "Paint the 15th point red.\n",
      "Find its 20 nearest neighbors, paint blue.\n"
     ]
    }
   ],
   "source": [
    "## BONUS CHALLENGE - CLUSTERING USING KDTREE AND KNN INSTEAD\n",
    "pcd_tree = open3d.geometry.KDTreeFlann(outlier_cloud)\n",
    "print(\"Paint the 15th point red.\")\n",
    "outlier_cloud.colors[15] = [1, 0, 0]\n",
    "print(\"Find its 20 nearest neighbors, paint blue.\")\n",
    "[k, idx, _] = pcd_tree.search_knn_vector_3d(outlier_cloud.points[15], 20)\n",
    "np.asarray(outlier_cloud.colors)[idx[1:], :] = [0, 0, 1]\n",
    "open3d.visualization.draw_geometries([outlier_cloud])"
   ]
  },
  {
   "cell_type": "code",
   "execution_count": 22,
   "metadata": {},
   "outputs": [],
   "source": [
    "## CHALLENGE 5 - BOUNDING BOXES IN 3D\n",
    "obbs=[]\n",
    "indexes=pd.Series(range(len(labels))).groupby(labels,sort=False).apply(list).tolist()"
   ]
  },
  {
   "cell_type": "code",
   "execution_count": 23,
   "metadata": {},
   "outputs": [],
   "source": [
    "Max_Points=1000\n",
    "Min_Points=20\n",
    "clusters=[]\n",
    "for i in range(0,len(indexes)):\n",
    "    nb_pts=len(outlier_cloud.select_by_index(indexes[i]).points)\n",
    "    if (nb_pts>Min_Points and nb_pts<Max_Points):\n",
    "        sub_cloud=outlier_cloud.select_by_index(indexes[i])\n",
    "        #clusters.append(sub_cloud)\n",
    "        #print(np.asarray([sub_cloud.points]))\n",
    "        obb=sub_cloud.get_axis_aligned_bounding_box()\n",
    "        obb.color=(0,0,1)\n",
    "        obbs.append(obb)\n",
    "        \n",
    "    "
   ]
  },
  {
   "cell_type": "code",
   "execution_count": 24,
   "metadata": {},
   "outputs": [],
   "source": [
    "list_of_visuals=[]\n",
    "list_of_visuals.append(outlier_cloud)\n",
    "list_of_visuals.extend(obbs)\n",
    "list_of_visuals.append(inlier_cloud)\n",
    "open3d.visualization.draw_geometries(list_of_visuals)"
   ]
  },
  {
   "cell_type": "code",
   "execution_count": 25,
   "metadata": {},
   "outputs": [
    {
     "name": "stdout",
     "output_type": "stream",
     "text": [
      "19\n"
     ]
    }
   ],
   "source": [
    "print(len(list_of_visuals))"
   ]
  },
  {
   "cell_type": "code",
   "execution_count": 11,
   "metadata": {},
   "outputs": [
    {
     "name": "stdout",
     "output_type": "stream",
     "text": [
      "[]\n"
     ]
    }
   ],
   "source": [
    "print(np.asarray([clusters]))"
   ]
  }
 ],
 "metadata": {
  "kernelspec": {
   "display_name": "Python 3",
   "language": "python",
   "name": "python3"
  },
  "language_info": {
   "codemirror_mode": {
    "name": "ipython",
    "version": 3
   },
   "file_extension": ".py",
   "mimetype": "text/x-python",
   "name": "python",
   "nbconvert_exporter": "python",
   "pygments_lexer": "ipython3",
   "version": "3.8.5"
  }
 },
 "nbformat": 4,
 "nbformat_minor": 4
}
